{
  "nbformat": 4,
  "nbformat_minor": 0,
  "metadata": {
    "colab": {
      "name": "ps2022-lab3",
      "provenance": [],
      "collapsed_sections": []
    },
    "kernelspec": {
      "name": "python3",
      "display_name": "Python 3"
    },
    "language_info": {
      "name": "python"
    }
  },
  "cells": [
    {
      "cell_type": "markdown",
      "metadata": {
        "id": "KgFZlT_g8O1Y"
      },
      "source": [
        "# Processamento de Streams 2022\n",
        "## Lab 3 - Structured Spark Streaming \n",
        "---\n",
        "### Colab Setup\n",
        "\n"
      ]
    },
    {
      "cell_type": "code",
      "metadata": {
        "id": "1eIWfDqQ3Cqi",
        "cellView": "form"
      },
      "source": [
        "#@title Mount Google Drive\n",
        "from google.colab import drive\n",
        "drive.mount('/content/drive')"
      ],
      "execution_count": null,
      "outputs": []
    },
    {
      "cell_type": "code",
      "source": [
        "#@title Install PySpark\n",
        "!pip install pyspark findspark --quiet\n",
        "import findspark\n",
        "findspark.init()\n",
        "findspark.find()"
      ],
      "metadata": {
        "cellView": "form",
        "id": "L2O_3I3x1dbx"
      },
      "execution_count": null,
      "outputs": []
    },
    {
      "cell_type": "markdown",
      "source": [
        "---\n",
        "### Weblog Sender\n",
        "The stream server is a small python TCP server, listening\n",
        "on port 7777 (localhost). \n",
        "\n",
        "The stream will consist of a set of text lines, obtained from the output log of a webserver.\n",
        "\n"
      ],
      "metadata": {
        "id": "51ECJ--i0D2G"
      }
    },
    {
      "cell_type": "code",
      "source": [
        "!wget -q -O - https://github.com/smduarte/ps2022/raw/main/colab/logsender.tgz | tar xfz - 2> /dev/null\n",
        "\n",
        "!nohup python logsender/server.py logsender/web.log 7777 > /dev/null 2> /dev/null &"
      ],
      "metadata": {
        "id": "GElosFxt-D4j"
      },
      "execution_count": null,
      "outputs": []
    },
    {
      "cell_type": "markdown",
      "source": [
        "The python code below shows the basics needed to process data from socket source using PySpark.\n",
        "\n",
        "Spark Streaming python documentation is found [here](https://spark.apache.org/docs/latest/api/python/reference/pyspark.streaming.html)"
      ],
      "metadata": {
        "id": "1wihC26vaiT1"
      }
    },
    {
      "cell_type": "code",
      "metadata": {
        "id": "QpO0aX2PPWd1",
        "colab": {
          "base_uri": "https://localhost:8080/"
        },
        "outputId": "ef56e735-a304-45d6-854f-e596a9a95eac"
      },
      "source": [
        "from pyspark.sql import SparkSession\n",
        "from pyspark.sql.functions import explode, split, count\n",
        "\n",
        "spark = SparkSession \\\n",
        "    .builder \\\n",
        "    .appName(\"StructuredWebLogExample\") \\\n",
        "    .getOrCreate()\n",
        "\n",
        "# Create DataFrame representing the stream of input\n",
        "# lines from connection to logsender 7777\n",
        "\n",
        "lines = spark.readStream.format(\"socket\") \\\n",
        "    .option(\"host\", \"localhost\") \\\n",
        "    .option(\"port\", 7777) \\\n",
        "    .load()\n",
        "\n",
        "query = lines \\\n",
        "    .writeStream \\\n",
        "    .outputMode(\"append\") \\\n",
        "    .trigger(processingTime='1 seconds') \\\n",
        "    .foreachBatch(lambda df, epoch: df.show(10, False)) \\\n",
        "    .start()\n",
        "\n",
        "query.awaitTermination(60)\n",
        "query.stop()\n"
      ],
      "execution_count": null,
      "outputs": [
        {
          "output_type": "stream",
          "name": "stdout",
          "text": [
            "+-----------------------------------------------------------------------------------+\n",
            "|value                                                                              |\n",
            "+-----------------------------------------------------------------------------------+\n",
            "|2016-12-06T08:59:09.049+0000 120.52.73.97 404 GET /codemove/AP6FI7P9J2HP 58.589    |\n",
            "|2016-12-06T08:59:09.050+0000 185.28.193.95 404 GET /codemove/0CYDRWMI9BOW 75.605   |\n",
            "|2016-12-06T08:59:09.051+0000 125.31.1.27 404 GET /codemove/VORA983ZWBAV 75.614     |\n",
            "|2016-12-06T08:59:09.052+0000 120.52.73.98 404 GET /codemove/S7YPK8KVCBUZ 0.732     |\n",
            "|2016-12-06T08:59:09.052+0000 185.28.193.95 404 GET /codemove/68MT6YARSIYO 75.695   |\n",
            "|2016-12-06T08:59:09.053+0000 185.28.193.95 404 GET /codemove/KR8MW5Y1MRJ3 75.685   |\n",
            "|2016-12-06T08:59:09.056+0000 202.47.236.252 404 GET /codemove/4CN9JWUGP4BI 59.182  |\n",
            "|2016-12-06T08:59:09.059+0000 120.52.73.97 404 GET /codemove/LMXHMZ87KGIC 58.560    |\n",
            "|2016-12-06T08:59:09.060+0000 185.28.193.95 404 GET /codemove/R9TZZIKI5QEC 75.688   |\n",
            "|2016-12-06T08:59:09.061+0000 178.22.148.122 404 GET /codemove/YMZ5BCE4HMPS 58.573  |\n",
            "+-----------------------------------------------------------------------------------+\n",
            "only showing top 10 rows\n",
            "\n",
            "+-------------------------------------------------------------------------------------------+\n",
            "|value                                                                                      |\n",
            "+-------------------------------------------------------------------------------------------+\n",
            "|2016-12-06T08:59:10.046+0000 120.52.73.97 404 GET /codemove/F9XFLPNZR3PI 58.917            |\n",
            "|2016-12-06T08:59:10.052+0000 185.28.193.95 404 GET /codemove/1U6HCG3V2S9D 58.591           |\n",
            "|2016-12-06T08:59:10.053+0000 120.52.73.97 404 GET /codemove/DHQD3WU3C1B2 1.148             |\n",
            "|2016-12-06T08:59:10.057+0000 97.77.104.22 404 GET /codemove/7HIW17K7FDZI 58.684            |\n",
            "|2016-12-06T08:59:10.062+0000 178.22.148.122 404 GET /codemove/YMZ5BCE4HMPS 58.839          |\n",
            "|2016-12-06T08:59:10.064+0000 185.28.193.95 404 GET /codemove/R5XLJ5H4N3KK 75.564           |\n",
            "|2016-12-06T08:59:10.067+0000 2a02:c207:2008:5973::1 404 GET /codemove/KTRZP5V88XJW 58.659  |\n",
            "|2016-12-06T08:59:10.074+0000 97.77.104.22 404 GET /codemove/8J18GL1RE3HB 9.526             |\n",
            "|2016-12-06T08:59:10.075+0000 120.52.73.98 404 GET /codemove/H7LRBDS5OFB9 58.716            |\n",
            "|2016-12-06T08:59:10.076+0000 97.77.104.22 404 GET /codemove/BVAJ5MC5EASU 58.653            |\n",
            "+-------------------------------------------------------------------------------------------+\n",
            "only showing top 10 rows\n",
            "\n",
            "+----------------------------------------------------------------------------------+\n",
            "|value                                                                             |\n",
            "+----------------------------------------------------------------------------------+\n",
            "|2016-12-06T08:59:11.049+0000 120.52.73.97 404 GET /codemove/OTN85X86OO64 0.552    |\n",
            "|2016-12-06T08:59:11.051+0000 185.28.193.95 404 GET /codemove/R5XLJ5H4N3KK 1.070   |\n",
            "|2016-12-06T08:59:11.051+0000 185.28.193.95 404 GET /codemove/68MT6YARSIYO 1.071   |\n",
            "|2016-12-06T08:59:11.053+0000 185.28.193.95 404 GET /codemove/KR8MW5Y1MRJ3 1.013   |\n",
            "|2016-12-06T08:59:11.055+0000 178.22.148.122 404 GET /codemove/OQQLQ785Z4XH 1.014  |\n",
            "|2016-12-06T08:59:11.056+0000 120.52.73.98 404 GET /codemove/6GTXIA9YHX09 0.672    |\n",
            "|2016-12-06T08:59:11.059+0000 185.28.193.95 404 GET /codemove/0CYDRWMI9BOW 58.598  |\n",
            "|2016-12-06T08:59:11.064+0000 120.52.73.97 404 GET /codemove/LWJA432S0DB9 0.537    |\n",
            "|2016-12-06T08:59:11.065+0000 120.52.73.97 404 GET /codemove/D1R7OMKXKP4C 58.746   |\n",
            "|2016-12-06T08:59:11.066+0000 120.52.73.97 404 GET /codemove/2DIUQIC953PM 1.226    |\n",
            "+----------------------------------------------------------------------------------+\n",
            "only showing top 10 rows\n",
            "\n",
            "+-----------------------------------------------------------------------------------+\n",
            "|value                                                                              |\n",
            "+-----------------------------------------------------------------------------------+\n",
            "|2016-12-06T08:59:11.317+0000 185.28.193.95 404 GET /codemove/KR8MW5Y1MRJ3 9.879    |\n",
            "|2016-12-06T08:59:11.317+0000 120.52.73.97 404 GET /codemove/76X9VK55UXJP 58.413    |\n",
            "|2016-12-06T08:59:11.318+0000 178.22.148.122 404 GET /codemove/IUKY0G8DDBX7 75.813  |\n",
            "|2016-12-06T08:59:11.323+0000 120.52.73.97 404 GET /codemove/LMXHMZ87KGIC 58.400    |\n",
            "|2016-12-06T08:59:11.325+0000 185.28.193.95 404 GET /codemove/KR8MW5Y1MRJ3 9.864    |\n",
            "|2016-12-06T08:59:11.328+0000 185.28.193.95 404 GET /codemove/68MT6YARSIYO 58.302   |\n",
            "|2016-12-06T08:59:11.334+0000 185.28.193.95 404 GET /codemove/1U6HCG3V2S9D 10.558   |\n",
            "|2016-12-06T08:59:11.336+0000 178.22.148.122 404 GET /codemove/PL85GO268OD7 75.726  |\n",
            "|2016-12-06T08:59:11.337+0000 185.28.193.95 404 GET /codemove/1U6HCG3V2S9D 75.749   |\n",
            "|2016-12-06T08:59:11.338+0000 178.22.148.122 404 GET /codemove/PSO83TYKET12 1.008   |\n",
            "+-----------------------------------------------------------------------------------+\n",
            "only showing top 10 rows\n",
            "\n",
            "+-----------------------------------------------------------------------------------+\n",
            "|value                                                                              |\n",
            "+-----------------------------------------------------------------------------------+\n",
            "|2016-12-06T08:59:13.046+0000 185.28.193.95 404 GET /codemove/0CYDRWMI9BOW 75.613   |\n",
            "|2016-12-06T08:59:13.048+0000 120.52.73.97 404 GET /codemove/YSLXOW9O0JX3 58.713    |\n",
            "|2016-12-06T08:59:13.049+0000 185.28.193.95 404 GET /codemove/1U6HCG3V2S9D 75.619   |\n",
            "|2016-12-06T08:59:13.052+0000 185.28.193.95 404 GET /codemove/R5XLJ5H4N3KK 1.215    |\n",
            "|2016-12-06T08:59:13.056+0000 120.52.73.98 404 GET /codemove/HVWMHDQSA54H 0.567     |\n",
            "|2016-12-06T08:59:13.059+0000 120.52.73.97 404 GET /codemove/039N8GOA8IG6 76.357    |\n",
            "|2016-12-06T08:59:13.060+0000 202.47.236.252 404 GET /codemove/4CN9JWUGP4BI 75.677  |\n",
            "|2016-12-06T08:59:13.063+0000 178.22.148.122 404 GET /codemove/YMZ5BCE4HMPS 58.670  |\n",
            "|2016-12-06T08:59:13.066+0000 185.28.193.95 404 GET /codemove/R5XLJ5H4N3KK 75.533   |\n",
            "|2016-12-06T08:59:13.067+0000 185.28.193.95 404 GET /codemove/1U6HCG3V2S9D 9.113    |\n",
            "+-----------------------------------------------------------------------------------+\n",
            "only showing top 10 rows\n",
            "\n"
          ]
        }
      ]
    },
    {
      "cell_type": "markdown",
      "source": [
        "---\n",
        "# Exercises\n",
        "\n",
        "## Exercise 1\n",
        "\n",
        "In a denial-of-service event it is important to identify the IP sources that might be attacking the system, by issuing a large number of requests.\n",
        "\n",
        "Write a program to find the IP sources that have done more than 50 requests in the last 10 seconds -- dump this information every 5 seconds. \n"
      ],
      "metadata": {
        "id": "THPCe5kkaEr-"
      }
    },
    {
      "cell_type": "code",
      "source": [
        ""
      ],
      "metadata": {
        "id": "Dtav45IoQDzy"
      },
      "execution_count": null,
      "outputs": []
    },
    {
      "cell_type": "markdown",
      "source": [
        "## Exercise 2\n",
        "\n",
        "#### a)\n",
        "Write a program to dump the number of requests, minimum processing time, maximum processing time for request in the last 10 seconds, **for all** source IPs that performed more than 100 requests -- dump this information every 5 second.  "
      ],
      "metadata": {
        "id": "ZmM2Ey9YQEQw"
      }
    },
    {
      "cell_type": "code",
      "source": [
        ""
      ],
      "metadata": {
        "id": "4003eAI6QL86"
      },
      "execution_count": null,
      "outputs": []
    },
    {
      "cell_type": "markdown",
      "source": [
        "#### b)\n",
        "\n",
        "Write a program to dump the number of requests, minimum processing time, maximum processing time for request in the last 10 seconds, **only if at least one** source IP has performed more than 100 requests -- dump this information every 5 second."
      ],
      "metadata": {
        "id": "prmPPodzDwL6"
      }
    },
    {
      "cell_type": "code",
      "source": [
        ""
      ],
      "metadata": {
        "id": "NLXgZnC_DwoP"
      },
      "execution_count": null,
      "outputs": []
    },
    {
      "cell_type": "markdown",
      "source": [
        "## Exercise 3\n",
        "Write a program to dump the IP sources that deviate most from the average in terms of the number of requests made in the last 30 seconds - dump this information every 5 seconds."
      ],
      "metadata": {
        "id": "5yy3_7xpQMew"
      }
    },
    {
      "cell_type": "code",
      "source": [
        ""
      ],
      "metadata": {
        "id": "XegUvrgiQRfM"
      },
      "execution_count": null,
      "outputs": []
    },
    {
      "cell_type": "markdown",
      "source": [
        "## Exercise 4\n",
        "\n",
        "Run additional logsender servers for subsets of the logs (IPv4 and IPv6 logs), using the following commands.\n",
        "\n",
        "```\n",
        "!nohup python logsender/server.py logsender/webipv4.log 7778 > /dev/null 2> /dev/null &\n",
        "!nohup python logsender/server.py logsender/webipv6.log 7779 > /dev/null 2> /dev/null &\n",
        "```\n",
        "\n",
        "Write a program that combines the two streams, dumping the number of requests made in the last 15 seconds - dump this information every 5 seconds."
      ],
      "metadata": {
        "id": "B3Wg5aecQSFM"
      }
    },
    {
      "cell_type": "code",
      "source": [
        ""
      ],
      "metadata": {
        "id": "nqCtmOZwRfUi"
      },
      "execution_count": null,
      "outputs": []
    },
    {
      "cell_type": "markdown",
      "source": [
        "## Exercise 5\n",
        "\n",
        "Write a program that combines the two streams from the previous exercise and dumps the proportion of IPv4 vs IPv6 requests in the last 20 seconds - dump this information every 5 seconds.\n"
      ],
      "metadata": {
        "id": "ALselcFrRuYA"
      }
    },
    {
      "cell_type": "code",
      "source": [
        ""
      ],
      "metadata": {
        "id": "3ZcmfAVlR63v"
      },
      "execution_count": null,
      "outputs": []
    }
  ]
}